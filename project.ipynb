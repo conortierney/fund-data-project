{
 "cells": [
  {
   "cell_type": "markdown",
   "metadata": {},
   "source": [
    "# Fundamentals of Data Analysis Project \n",
    "\n",
    "**Conor Tierney**\n",
    "\n",
    "***\n",
    "\n"
   ]
  },
  {
   "cell_type": "markdown",
   "metadata": {},
   "source": [
    "## heading\n",
    "\n",
    " The project is to create a notebook investigating the variables and data points within the well-known iris flower data set associated with Ronald A Fisher.\n"
   ]
  },
  {
   "cell_type": "markdown",
   "metadata": {},
   "source": [
    "In the notebook, you should discuss the classification of each\n",
    "variable within the data set according to common variable types\n",
    "and scales of measurement in mathematics, statistics, and Python\n",
    "\n",
    "Select, demonstrate, and explain the most appropriate summary\n",
    "statistics to describe each variable.\n",
    "\n",
    " Select, demonstrate, and explain the most appropriate plot(s) for\n",
    "each variable.\n",
    "\n",
    " The notebook should follow a cohesive narrative about the data\n",
    "set."
   ]
  },
  {
   "cell_type": "code",
   "execution_count": null,
   "metadata": {},
   "outputs": [],
   "source": []
  },
  {
   "cell_type": "markdown",
   "metadata": {},
   "source": [
    "## End\n",
    "\n",
    "***"
   ]
  }
 ],
 "metadata": {
  "kernelspec": {
   "display_name": "base",
   "language": "python",
   "name": "python3"
  },
  "language_info": {
   "codemirror_mode": {
    "name": "ipython",
    "version": 3
   },
   "file_extension": ".py",
   "mimetype": "text/x-python",
   "name": "python",
   "nbconvert_exporter": "python",
   "pygments_lexer": "ipython3",
   "version": "3.11.4"
  },
  "orig_nbformat": 4
 },
 "nbformat": 4,
 "nbformat_minor": 2
}
