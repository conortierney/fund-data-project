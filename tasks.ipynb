{
 "cells": [
  {
   "cell_type": "markdown",
   "metadata": {},
   "source": [
    "# Fundamentals of Data Analysis Tasks - 2023\n",
    "\n",
    "*by Conor Tierney*\n",
    "\n",
    "***"
   ]
  },
  {
   "cell_type": "markdown",
   "metadata": {},
   "source": [
    "## About \n",
    "****\n",
    "\n",
    "\n",
    "fjfjdfjdf"
   ]
  },
  {
   "cell_type": "markdown",
   "metadata": {},
   "source": [
    "## Import Libraries\n",
    "\n",
    "*****"
   ]
  },
  {
   "cell_type": "code",
   "execution_count": null,
   "metadata": {},
   "outputs": [],
   "source": [
    "Numerical arrays\n",
    "import numpy as np\n",
    "\n",
    "# Data frames\n",
    "import pandas as pd"
   ]
  },
  {
   "cell_type": "markdown",
   "metadata": {},
   "source": [
    "# Task 1 - Collatz Conjecture\n",
    "\n",
    "*******\n",
    "\n",
    "The Collatz conjecture is a famous unsolved problem in mathematics (ref 1). The problem is to prove that if you start with any positive integer $x$ and repeatedly apply the function $f(x)$ below, you always get stuck in the repeating sequence 1, 4, 2, 1, 4, 2, . . .\n",
    "This task is to verify, using Python, that the conjecture is true for the first 10,000 positive integers.\n",
    "At each stage of the loop, the program updates the number value based on whether it is even or odd. If the number $x$ is even, divide it by 2. If the number is odd, multiply by 3 and add 1. When number becomes 1, the program ends.\n"
   ]
  },
  {
   "cell_type": "markdown",
   "metadata": {},
   "source": [
    "*The following is the code running the Collatz Conjecture.*"
   ]
  },
  {
   "cell_type": "code",
   "execution_count": 1,
   "metadata": {},
   "outputs": [],
   "source": [
    "def f(x):\n",
    "    # If x is even, divide it by two.\n",
    "    if x % 2 == 0:\n",
    "        return x // 2                      \n",
    "    # If x is odd, multiply by 3 + 1.\n",
    "    else:\n",
    "        return (3 * x) + 1"
   ]
  },
  {
   "cell_type": "code",
   "execution_count": 2,
   "metadata": {},
   "outputs": [],
   "source": [
    "def collatz(x):\n",
    "    while x != 1:                                      # while loop executes as long as 'x' is not = 1.\n",
    "        print (x, end=', ')                            # until x becomes one , keep printing value of x.\n",
    "        x = f(x)\n",
    "    print(x) "
   ]
  },
  {
   "cell_type": "markdown",
   "metadata": {},
   "source": [
    "*Verify the conjecture for the first 10,000 integers is true.*"
   ]
  },
  {
   "cell_type": "code",
   "execution_count": 3,
   "metadata": {},
   "outputs": [
    {
     "name": "stdout",
     "output_type": "stream",
     "text": [
      "10000, 5000, 2500, 1250, 625, 1876, 938, 469, 1408, 704, 352, 176, 88, 44, 22, 11, 34, 17, 52, 26, 13, 40, 20, 10, 5, 16, 8, 4, 2, 1\n"
     ]
    }
   ],
   "source": [
    "collatz(10000)"
   ]
  },
  {
   "cell_type": "markdown",
   "metadata": {},
   "source": [
    "### References:\n",
    "- 1\n",
    "- 2\n",
    "- 2\n"
   ]
  },
  {
   "cell_type": "markdown",
   "metadata": {},
   "source": [
    "# Task 2 - Penguins Dataset Overview\n",
    "*****\n",
    "\n",
    "The famous Palmer penguin dataset is commonly used in data science and analytics. \n",
    "The dataset comprises information on penguins inhabiting the Palmer Archipelago, Antarctica. It features various attributes, including the name of the islands (Torgersen, Biscoe, or Dream), the species (Adelie, Chinstrap, or Gentoo), bill length measurement (mm), bill depth measurement (mm), flipper length (mm), body mass (grams), and the gender of the penguins(1). \n",
    "The data was collected and made available by Dr. Kirsten Gorman and Palmer station Antarctica LTER between the period 2007-09(2).\n",
    "In total 344 samples were collected (however 2 samples have missing structural size measurements)."
   ]
  },
  {
   "cell_type": "markdown",
   "metadata": {},
   "source": [
    "![Penguins Dataset](https://imgur.com/orZWHly.png)"
   ]
  },
  {
   "cell_type": "markdown",
   "metadata": {},
   "source": [
    "## Types of Variables in the Penguin Dataset.\n",
    "\n",
    "NB see here : https://realpython.com/python-data-types/\n",
    "\n",
    "The dataset contains Categorical and Numerical Variables. Of the 7 columns in the dataset, 3 are categorical (gender, island and species), and 4 are numeric (bill length, bill depth, flipper length and body mass).\n",
    "\n",
    "The type of variable used to model them in python depends on the specific task or analysis we wish to perform using the dataset. I suggest that for classification tasks, we can use the categorical variables outlined below to classify the penguins into different species based on other features.\n",
    "The numerical variables are often used for predictive modeling and regression models.(ref).\n",
    "\n",
    "\n",
    "\n",
    "\n",
    "### **Categorical variables**:\n",
    "\n",
    "1. *Species: This represents the penguin species and contains 3 categories.*\n",
    "- Adelie.\n",
    "- Chinstrap.\n",
    "- Gentoo.   \n",
    "  \n",
    "2. *Islands: Where the penguins were observed. Contains 3 categories.*\n",
    "- Torgersen.\n",
    "- Biscoe.\n",
    "- Dream.   \n",
    "  \n",
    "3. *Sex: Gender of the penguins. Contains 2 categories*\n",
    "- Male.\n",
    "- Female.\n",
    "\n",
    "### **Numeric variables**:\n",
    "\n",
    "1. Bill Length.\n",
    "2. Bill Depth.\n",
    "3. Flipper Length.\n",
    "4. Body Mass (g)"
   ]
  },
  {
   "cell_type": "markdown",
   "metadata": {},
   "source": [
    "\n",
    "### Investigation of the the Dataset using Pandas."
   ]
  },
  {
   "cell_type": "code",
   "execution_count": 4,
   "metadata": {},
   "outputs": [],
   "source": [
    "import pandas as pd"
   ]
  },
  {
   "cell_type": "code",
   "execution_count": 5,
   "metadata": {},
   "outputs": [],
   "source": [
    "df = pd.read_csv(\"https://raw.githubusercontent.com/mwaskom/seaborn-data/master/penguins.csv\")\n",
    "# read in the csv file."
   ]
  },
  {
   "cell_type": "code",
   "execution_count": 7,
   "metadata": {},
   "outputs": [
    {
     "name": "stdout",
     "output_type": "stream",
     "text": [
      "    species     island  bill_length_mm  bill_depth_mm  flipper_length_mm  \\\n",
      "0    Adelie  Torgersen            39.1           18.7              181.0   \n",
      "1    Adelie  Torgersen            39.5           17.4              186.0   \n",
      "2    Adelie  Torgersen            40.3           18.0              195.0   \n",
      "3    Adelie  Torgersen             NaN            NaN                NaN   \n",
      "4    Adelie  Torgersen            36.7           19.3              193.0   \n",
      "..      ...        ...             ...            ...                ...   \n",
      "339  Gentoo     Biscoe             NaN            NaN                NaN   \n",
      "340  Gentoo     Biscoe            46.8           14.3              215.0   \n",
      "341  Gentoo     Biscoe            50.4           15.7              222.0   \n",
      "342  Gentoo     Biscoe            45.2           14.8              212.0   \n",
      "343  Gentoo     Biscoe            49.9           16.1              213.0   \n",
      "\n",
      "     body_mass_g     sex  \n",
      "0         3750.0    MALE  \n",
      "1         3800.0  FEMALE  \n",
      "2         3250.0  FEMALE  \n",
      "3            NaN     NaN  \n",
      "4         3450.0  FEMALE  \n",
      "..           ...     ...  \n",
      "339          NaN     NaN  \n",
      "340       4850.0  FEMALE  \n",
      "341       5750.0    MALE  \n",
      "342       5200.0  FEMALE  \n",
      "343       5400.0    MALE  \n",
      "\n",
      "[344 rows x 7 columns]\n"
     ]
    }
   ],
   "source": [
    "print(df)\n",
    "# show a summary of the penguin dataset."
   ]
  },
  {
   "cell_type": "code",
   "execution_count": 9,
   "metadata": {},
   "outputs": [
    {
     "data": {
      "text/plain": [
       "species               object\n",
       "island                object\n",
       "bill_length_mm       float64\n",
       "bill_depth_mm        float64\n",
       "flipper_length_mm    float64\n",
       "body_mass_g          float64\n",
       "sex                   object\n",
       "dtype: object"
      ]
     },
     "execution_count": 9,
     "metadata": {},
     "output_type": "execute_result"
    }
   ],
   "source": [
    "df.dtypes\n",
    "# to verify & list the types of data.\n",
    "# 'object' in Pandas is categorical or text data. 'float64' represents numerical data.\n"
   ]
  },
  {
   "cell_type": "code",
   "execution_count": 14,
   "metadata": {},
   "outputs": [
    {
     "data": {
      "text/html": [
       "<div>\n",
       "<style scoped>\n",
       "    .dataframe tbody tr th:only-of-type {\n",
       "        vertical-align: middle;\n",
       "    }\n",
       "\n",
       "    .dataframe tbody tr th {\n",
       "        vertical-align: top;\n",
       "    }\n",
       "\n",
       "    .dataframe thead th {\n",
       "        text-align: right;\n",
       "    }\n",
       "</style>\n",
       "<table border=\"1\" class=\"dataframe\">\n",
       "  <thead>\n",
       "    <tr style=\"text-align: right;\">\n",
       "      <th></th>\n",
       "      <th>species</th>\n",
       "      <th>island</th>\n",
       "      <th>bill_length_mm</th>\n",
       "      <th>bill_depth_mm</th>\n",
       "      <th>flipper_length_mm</th>\n",
       "      <th>body_mass_g</th>\n",
       "      <th>sex</th>\n",
       "    </tr>\n",
       "  </thead>\n",
       "  <tbody>\n",
       "    <tr>\n",
       "      <th>0</th>\n",
       "      <td>Adelie</td>\n",
       "      <td>Torgersen</td>\n",
       "      <td>39.1</td>\n",
       "      <td>18.7</td>\n",
       "      <td>181.0</td>\n",
       "      <td>3750.0</td>\n",
       "      <td>MALE</td>\n",
       "    </tr>\n",
       "    <tr>\n",
       "      <th>1</th>\n",
       "      <td>Adelie</td>\n",
       "      <td>Torgersen</td>\n",
       "      <td>39.5</td>\n",
       "      <td>17.4</td>\n",
       "      <td>186.0</td>\n",
       "      <td>3800.0</td>\n",
       "      <td>FEMALE</td>\n",
       "    </tr>\n",
       "    <tr>\n",
       "      <th>2</th>\n",
       "      <td>Adelie</td>\n",
       "      <td>Torgersen</td>\n",
       "      <td>40.3</td>\n",
       "      <td>18.0</td>\n",
       "      <td>195.0</td>\n",
       "      <td>3250.0</td>\n",
       "      <td>FEMALE</td>\n",
       "    </tr>\n",
       "    <tr>\n",
       "      <th>3</th>\n",
       "      <td>Adelie</td>\n",
       "      <td>Torgersen</td>\n",
       "      <td>NaN</td>\n",
       "      <td>NaN</td>\n",
       "      <td>NaN</td>\n",
       "      <td>NaN</td>\n",
       "      <td>NaN</td>\n",
       "    </tr>\n",
       "    <tr>\n",
       "      <th>4</th>\n",
       "      <td>Adelie</td>\n",
       "      <td>Torgersen</td>\n",
       "      <td>36.7</td>\n",
       "      <td>19.3</td>\n",
       "      <td>193.0</td>\n",
       "      <td>3450.0</td>\n",
       "      <td>FEMALE</td>\n",
       "    </tr>\n",
       "  </tbody>\n",
       "</table>\n",
       "</div>"
      ],
      "text/plain": [
       "  species     island  bill_length_mm  bill_depth_mm  flipper_length_mm  \\\n",
       "0  Adelie  Torgersen            39.1           18.7              181.0   \n",
       "1  Adelie  Torgersen            39.5           17.4              186.0   \n",
       "2  Adelie  Torgersen            40.3           18.0              195.0   \n",
       "3  Adelie  Torgersen             NaN            NaN                NaN   \n",
       "4  Adelie  Torgersen            36.7           19.3              193.0   \n",
       "\n",
       "   body_mass_g     sex  \n",
       "0       3750.0    MALE  \n",
       "1       3800.0  FEMALE  \n",
       "2       3250.0  FEMALE  \n",
       "3          NaN     NaN  \n",
       "4       3450.0  FEMALE  "
      ]
     },
     "execution_count": 14,
     "metadata": {},
     "output_type": "execute_result"
    }
   ],
   "source": [
    "df.head()\n",
    "# Verify the dataset's structure and variables."
   ]
  },
  {
   "cell_type": "code",
   "execution_count": 8,
   "metadata": {},
   "outputs": [
    {
     "data": {
      "text/html": [
       "<div>\n",
       "<style scoped>\n",
       "    .dataframe tbody tr th:only-of-type {\n",
       "        vertical-align: middle;\n",
       "    }\n",
       "\n",
       "    .dataframe tbody tr th {\n",
       "        vertical-align: top;\n",
       "    }\n",
       "\n",
       "    .dataframe thead th {\n",
       "        text-align: right;\n",
       "    }\n",
       "</style>\n",
       "<table border=\"1\" class=\"dataframe\">\n",
       "  <thead>\n",
       "    <tr style=\"text-align: right;\">\n",
       "      <th></th>\n",
       "      <th>bill_length_mm</th>\n",
       "      <th>bill_depth_mm</th>\n",
       "      <th>flipper_length_mm</th>\n",
       "      <th>body_mass_g</th>\n",
       "    </tr>\n",
       "  </thead>\n",
       "  <tbody>\n",
       "    <tr>\n",
       "      <th>count</th>\n",
       "      <td>342.000000</td>\n",
       "      <td>342.000000</td>\n",
       "      <td>342.000000</td>\n",
       "      <td>342.000000</td>\n",
       "    </tr>\n",
       "    <tr>\n",
       "      <th>mean</th>\n",
       "      <td>43.921930</td>\n",
       "      <td>17.151170</td>\n",
       "      <td>200.915205</td>\n",
       "      <td>4201.754386</td>\n",
       "    </tr>\n",
       "    <tr>\n",
       "      <th>std</th>\n",
       "      <td>5.459584</td>\n",
       "      <td>1.974793</td>\n",
       "      <td>14.061714</td>\n",
       "      <td>801.954536</td>\n",
       "    </tr>\n",
       "    <tr>\n",
       "      <th>min</th>\n",
       "      <td>32.100000</td>\n",
       "      <td>13.100000</td>\n",
       "      <td>172.000000</td>\n",
       "      <td>2700.000000</td>\n",
       "    </tr>\n",
       "    <tr>\n",
       "      <th>25%</th>\n",
       "      <td>39.225000</td>\n",
       "      <td>15.600000</td>\n",
       "      <td>190.000000</td>\n",
       "      <td>3550.000000</td>\n",
       "    </tr>\n",
       "    <tr>\n",
       "      <th>50%</th>\n",
       "      <td>44.450000</td>\n",
       "      <td>17.300000</td>\n",
       "      <td>197.000000</td>\n",
       "      <td>4050.000000</td>\n",
       "    </tr>\n",
       "    <tr>\n",
       "      <th>75%</th>\n",
       "      <td>48.500000</td>\n",
       "      <td>18.700000</td>\n",
       "      <td>213.000000</td>\n",
       "      <td>4750.000000</td>\n",
       "    </tr>\n",
       "    <tr>\n",
       "      <th>max</th>\n",
       "      <td>59.600000</td>\n",
       "      <td>21.500000</td>\n",
       "      <td>231.000000</td>\n",
       "      <td>6300.000000</td>\n",
       "    </tr>\n",
       "  </tbody>\n",
       "</table>\n",
       "</div>"
      ],
      "text/plain": [
       "       bill_length_mm  bill_depth_mm  flipper_length_mm  body_mass_g\n",
       "count      342.000000     342.000000         342.000000   342.000000\n",
       "mean        43.921930      17.151170         200.915205  4201.754386\n",
       "std          5.459584       1.974793          14.061714   801.954536\n",
       "min         32.100000      13.100000         172.000000  2700.000000\n",
       "25%         39.225000      15.600000         190.000000  3550.000000\n",
       "50%         44.450000      17.300000         197.000000  4050.000000\n",
       "75%         48.500000      18.700000         213.000000  4750.000000\n",
       "max         59.600000      21.500000         231.000000  6300.000000"
      ]
     },
     "execution_count": 8,
     "metadata": {},
     "output_type": "execute_result"
    }
   ],
   "source": [
    "df.describe()         \n",
    "# to describe the dataframe."
   ]
  },
  {
   "cell_type": "code",
   "execution_count": 11,
   "metadata": {},
   "outputs": [
    {
     "name": "stderr",
     "output_type": "stream",
     "text": [
      "C:\\Users\\conor\\AppData\\Local\\Temp\\ipykernel_13372\\3762790996.py:1: FutureWarning: The default value of numeric_only in DataFrame.mean is deprecated. In a future version, it will default to False. In addition, specifying 'numeric_only=None' is deprecated. Select only valid columns or specify the value of numeric_only to silence this warning.\n",
      "  df.mean()\n"
     ]
    },
    {
     "data": {
      "text/plain": [
       "bill_length_mm         43.921930\n",
       "bill_depth_mm          17.151170\n",
       "flipper_length_mm     200.915205\n",
       "body_mass_g          4201.754386\n",
       "dtype: float64"
      ]
     },
     "execution_count": 11,
     "metadata": {},
     "output_type": "execute_result"
    }
   ],
   "source": [
    "df.mean()          \n",
    "# These are the means for the 4 numeric variables."
   ]
  },
  {
   "cell_type": "markdown",
   "metadata": {},
   "source": [
    "https://seaborn.pydata.org/generated/seaborn.barplot.html\n",
    "\n",
    "https://seaborn.pydata.org/generated/seaborn.pairplot.html"
   ]
  },
  {
   "cell_type": "markdown",
   "metadata": {},
   "source": [
    "### References:\n",
    "- https://towardsdatascience.com/penguins-dataset-overview-iris-alternative-9453bb8c8d95\n",
    "- https://inria.github.io/scikit-learn-mooc/python_scripts/trees_dataset.html\n",
    "- https://www.kaggle.com/code/parulpandey/penguin-dataset-the-new-iris (for penguin image)\n",
    "- wikipedia : penguin dataset\n",
    "- https://www.linkedin.com/pulse/penguin-paradox-garima-anand/\n",
    "- https://yabdulmalik.medium.com/python-data-analysis-project-palmer-penguins-dataset-411a1e0b8c7d"
   ]
  },
  {
   "cell_type": "markdown",
   "metadata": {},
   "source": [
    "## End -  Task 2\n",
    "\n",
    "***"
   ]
  },
  {
   "cell_type": "markdown",
   "metadata": {},
   "source": [
    "# Task 3\n",
    "*****"
   ]
  },
  {
   "cell_type": "markdown",
   "metadata": {},
   "source": [
    "> *Question : For each of the variables in the penguins data set, suggest what probability distribution from the numpy random distributions list is the most appropriate to model the variable.*\n"
   ]
  },
  {
   "cell_type": "markdown",
   "metadata": {},
   "source": [
    "### Review of the variables in the Penguin Dataset.\n",
    "The dataset contains Categorical and Numerical Variables. Of the 7 columns in the dataset, 3 are categorical (gender, island and species), and 4 are numeric (bill length, bill depth, flipper length and body mass)."
   ]
  },
  {
   "cell_type": "markdown",
   "metadata": {},
   "source": [
    "** see lecture slides topic 3 for random distribution **\n",
    "** see topic 2 for laerd types of variables **"
   ]
  },
  {
   "cell_type": "markdown",
   "metadata": {},
   "source": [
    "**Body Mass (g)**\n",
    "\n",
    "The normal distribution is a fair choice for a continuous variable like body mass. It should exhibit a bell shaped curve that is genrally symmetrical.\n",
    "\n"
   ]
  },
  {
   "cell_type": "markdown",
   "metadata": {},
   "source": [
    "**Sex**\n",
    "probability distributions"
   ]
  },
  {
   "cell_type": "markdown",
   "metadata": {},
   "source": [
    "**Species**\n",
    "\n",
    "probability distributions?"
   ]
  },
  {
   "cell_type": "markdown",
   "metadata": {},
   "source": [
    "**Island**\n",
    "categorical distribution"
   ]
  },
  {
   "cell_type": "markdown",
   "metadata": {},
   "source": [
    "**Bill Length(mm)**\n",
    "Normal distribution"
   ]
  },
  {
   "cell_type": "markdown",
   "metadata": {},
   "source": [
    "**Bill Depth(mm)**\n",
    "Normal distribution"
   ]
  },
  {
   "cell_type": "markdown",
   "metadata": {},
   "source": [
    "**Flipper Length(mm)**\n",
    "Normal distribution"
   ]
  },
  {
   "cell_type": "markdown",
   "metadata": {},
   "source": []
  },
  {
   "cell_type": "markdown",
   "metadata": {},
   "source": [
    "# Task 4: Binomial distribution\n",
    "****"
   ]
  },
  {
   "cell_type": "markdown",
   "metadata": {},
   "source": [
    "> Question: Suppose you are flipping two coins, each with a probability p of\n",
    "giving heads. Plot the entropy of the total number of heads versus p."
   ]
  },
  {
   "cell_type": "markdown",
   "metadata": {},
   "source": [
    "Binomial distribution is a statistical probability distribution that summarizes the likelihood that a value will take one of two independent values under a given set of parameters or assumptions.\n",
    "The underlying assumptions of binomial distribution are that there is only one outcome for each trial, that each trial has the same probability of success, and that each trial is mutually exclusive or independent of one another.\n",
    "Binomial distribution is a common discrete distribution used in statistics, as opposed to a continuous distribution, such as normal distribution. ref 1"
   ]
  },
  {
   "cell_type": "markdown",
   "metadata": {},
   "source": [
    "ref - https://numpy.org/doc/stable/reference/random/generator.html#distributions"
   ]
  },
  {
   "cell_type": "markdown",
   "metadata": {},
   "source": [
    "ref 1= https://www.investopedia.com/terms/b/binomialdistribution.asp#:~:text=Binomial%20distribution%20is%20calculated%20by,and%20the%20number%20of%20trials.ref "
   ]
  },
  {
   "cell_type": "markdown",
   "metadata": {},
   "source": [
    "\t![alt text](https://www.investopedia.com/thmb/RRqxi-L497HFU5tbJkm4Qs6gFnY=/750x0/filters:no_upscale():max_bytes(150000):strip_icc():format(webp)/DDM_INV_binomial-distribution_df-530704a61bc2464c8e7deb71e9deb5ae.jpg)"
   ]
  },
  {
   "cell_type": "code",
   "execution_count": null,
   "metadata": {},
   "outputs": [],
   "source": []
  },
  {
   "cell_type": "code",
   "execution_count": null,
   "metadata": {},
   "outputs": [],
   "source": []
  },
  {
   "cell_type": "markdown",
   "metadata": {},
   "source": [
    "******"
   ]
  },
  {
   "cell_type": "markdown",
   "metadata": {},
   "source": [
    "## References\n",
    "\n",
    "[1]  \n",
    "[2]  \n",
    "[3]  \n"
   ]
  },
  {
   "cell_type": "markdown",
   "metadata": {},
   "source": []
  }
 ],
 "metadata": {
  "kernelspec": {
   "display_name": "base",
   "language": "python",
   "name": "python3"
  },
  "language_info": {
   "codemirror_mode": {
    "name": "ipython",
    "version": 3
   },
   "file_extension": ".py",
   "mimetype": "text/x-python",
   "name": "python",
   "nbconvert_exporter": "python",
   "pygments_lexer": "ipython3",
   "version": "3.11.4"
  },
  "orig_nbformat": 4
 },
 "nbformat": 4,
 "nbformat_minor": 2
}
